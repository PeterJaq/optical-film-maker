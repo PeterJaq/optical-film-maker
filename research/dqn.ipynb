{
 "cells": [
  {
   "cell_type": "markdown",
   "metadata": {},
   "source": [
    "# 光学薄膜优化程序\n",
    "\n",
    "author: Jiang anqing\n",
    "\n",
    "## 导入必要的包:\n",
    "\n",
    "* common.TransferMatrix    光学平面薄膜仿真程序\n",
    "* common.FileEnviroment    平面膜强化学习环境\n",
    "* common.FilmLoss          薄膜Loss计算\n"
   ]
  },
  {
   "cell_type": "code",
   "execution_count": 2,
   "metadata": {},
   "outputs": [
    {
     "name": "stdout",
     "output_type": "stream",
     "text": "['C:\\\\Users\\\\anqin\\\\AppData\\\\Local\\\\Temp\\\\3ea217aa-27f7-4032-b8ae-640db27960b3', 'c:\\\\Users\\\\anqin\\\\.vscode\\\\extensions\\\\ms-python.python-2020.2.64397\\\\pythonFiles', 'c:\\\\Users\\\\anqin\\\\.vscode\\\\extensions\\\\ms-python.python-2020.2.64397\\\\pythonFiles\\\\lib\\\\python', 'D:\\\\anaconda\\\\envs\\\\cuenv\\\\python37.zip', 'D:\\\\anaconda\\\\envs\\\\cuenv\\\\DLLs', 'D:\\\\anaconda\\\\envs\\\\cuenv\\\\lib', 'D:\\\\anaconda\\\\envs\\\\cuenv', '', 'C:\\\\Users\\\\anqin\\\\AppData\\\\Roaming\\\\Python\\\\Python37\\\\site-packages', 'D:\\\\anaconda\\\\envs\\\\cuenv\\\\lib\\\\site-packages', 'D:\\\\anaconda\\\\envs\\\\cuenv\\\\lib\\\\site-packages\\\\win32', 'D:\\\\anaconda\\\\envs\\\\cuenv\\\\lib\\\\site-packages\\\\win32\\\\lib', 'D:\\\\anaconda\\\\envs\\\\cuenv\\\\lib\\\\site-packages\\\\Pythonwin', 'D:\\\\anaconda\\\\envs\\\\cuenv\\\\lib\\\\site-packages\\\\IPython\\\\extensions', 'C:\\\\Users\\\\anqin\\\\.ipython', '..', 'd:\\\\MyCode\\\\filmmaker\\\\']\n"
    }
   ],
   "source": [
    "from common.DataLoader import MaterialLoader\n",
    "from common.TransferMatrix import OpticalModeling\n",
    "from common.Config import FilmConfig\n",
    "from common.utils.FilmLoss import film_loss"
   ]
  },
  {
   "cell_type": "markdown",
   "metadata": {},
   "source": [
    "## 导入Python第三方必要的包\n",
    "* numpy\n",
    "* pandas\n",
    "* tensroflow\n",
    "* tensorflow-agents"
   ]
  },
  {
   "cell_type": "code",
   "execution_count": 6,
   "metadata": {},
   "outputs": [],
   "source": [
    "\n",
    "import sys\n",
    "sys.path.append('./agents/')\n",
    "\n",
    "from tf_agents.agents.dqn import dqn_agent\n",
    "from tf_agents.drivers import dynamic_step_driver\n",
    "from tf_agents.eval import metric_utils\n",
    "from tf_agents.metrics import tf_metrics\n",
    "from tf_agents.networks import q_network\n",
    "from tf_agents.policies import random_tf_policy\n",
    "from tf_agents.replay_buffers import tf_uniform_replay_buffer\n",
    "from tf_agents.trajectories import trajectory\n",
    "from tf_agents.utils.common import element_wise_squared_loss\n",
    "from tf_agents.environments import tf_py_environment\n",
    "\n",
    "\n",
    "\n",
    "#from common.FilmEnvironment import FilmEnvironment \n"
   ]
  },
  {
   "cell_type": "code",
   "execution_count": 7,
   "metadata": {},
   "outputs": [],
   "source": [
    "import tensorflow as tf \n",
    "import numpy as np "
   ]
  },
  {
   "cell_type": "markdown",
   "metadata": {},
   "source": [
    "### 导入env"
   ]
  },
  {
   "cell_type": "code",
   "execution_count": 8,
   "metadata": {},
   "outputs": [
    {
     "name": "stdout",
     "output_type": "stream",
     "text": "num_episodes: 5 num_steps: 5\navg_length 1.0 avg_reward: 0.1\n"
    }
   ],
   "source": [
    "tf_env = tf_py_environment.TFPyEnvironment(FilmEnvironment(config_path='Zn.ini'))\n",
    "\n",
    "time_step = tf_env.reset()\n",
    "rewards = []\n",
    "steps = []\n",
    "num_episodes = 5\n",
    "\n",
    "for _ in range(num_episodes):\n",
    "  episode_reward = 0\n",
    "  episode_steps = 0\n",
    "  while not time_step.is_last():\n",
    "    action = tf.random.uniform([1], 0, 2, dtype=tf.int32)\n",
    "    time_step = tf_env.step(action)\n",
    "    episode_steps += 1\n",
    "    episode_reward += time_step.reward.numpy()\n",
    "  rewards.append(episode_reward)\n",
    "  steps.append(episode_steps)\n",
    "  time_step = tf_env.reset()\n",
    "\n",
    "num_steps = np.sum(steps)\n",
    "avg_length = np.mean(steps)\n",
    "avg_reward = np.mean(rewards)\n",
    "\n",
    "print('num_episodes:', num_episodes, 'num_steps:', num_steps)\n",
    "print('avg_length', avg_length, 'avg_reward:', avg_reward)"
   ]
  },
  {
   "cell_type": "code",
   "execution_count": 5,
   "metadata": {},
   "outputs": [
    {
     "name": "stdout",
     "output_type": "stream",
     "text": "Action Spec:\nBoundedArraySpec(shape=(1,), dtype=dtype('int64'), name='action', minimum=0, maximum=18)\nObservation Spec:\nBoundedArraySpec(shape=(1,), dtype=dtype('float32'), name='observation', minimum=0.0, maximum=3.4028234663852886e+38)\nReward Spec:\nBoundedArraySpec(shape=(1,), dtype=dtype('int64'), name='action', minimum=0, maximum=18)\nObservation Spec:\nBoundedArraySpec(shape=(1,), dtype=dtype('float32'), name='observation', minimum=0.0, maximum=3.4028234663852886e+38)\nReward Spec:\nArraySpec(shape=(), dtype=dtype('float32'), name='reward')\n"
    }
   ],
   "source": [
    "filmEnv = FilmEnvironment(config_path='Zn.ini')\n",
    "\n",
    "print('Action Spec:')\n",
    "print(filmEnv.action_spec())\n",
    "print('Observation Spec:')\n",
    "print(filmEnv.time_step_spec().observation)\n",
    "print('Reward Spec:')\n",
    "print(filmEnv.action_spec())\n",
    "print('Observation Spec:')\n",
    "print(filmEnv.time_step_spec().observation)\n",
    "print('Reward Spec:')\n",
    "print(filmEnv.time_step_spec().reward)\n",
    "\n",
    "filmEnv = tf_py_environment.TFPyEnvironment(filmEnv)"
   ]
  },
  {
   "cell_type": "code",
   "execution_count": 4,
   "metadata": {},
   "outputs": [],
   "source": [
    "num_iterations = 20000 # @param {type:\"integer\"}\n",
    "\n",
    "initial_collect_steps = 1000  # @param {type:\"integer\"} \n",
    "collect_steps_per_iteration = 1  # @param {type:\"integer\"}\n",
    "replay_buffer_max_length = 100000  # @param {type:\"integer\"}\n",
    "\n",
    "batch_size = 64  # @param {type:\"integer\"}\n",
    "learning_rate = 1e-3  # @param {type:\"number\"}\n",
    "log_interval = 200  # @param {type:\"integer\"}\n",
    "\n",
    "num_eval_episodes = 10  # @param {type:\"integer\"}\n",
    "eval_interval = 1000  # @param {type:\"integer\"}"
   ]
  },
  {
   "cell_type": "code",
   "execution_count": 6,
   "metadata": {},
   "outputs": [
    {
     "name": "stdout",
     "output_type": "stream",
     "text": "Action Spec:\nBoundedTensorSpec(shape=(1,), dtype=tf.int64, name='action', minimum=array(0, dtype=int64), maximum=array(18, dtype=int64))\nObservation Spec:\nBoundedTensorSpec(shape=(1,), dtype=tf.float32, name='observation', minimum=array(0., dtype=float32), maximum=array(3.4028235e+38, dtype=float32))\nReward Spec:\nBoundedTensorSpec(shape=(1,), dtype=tf.int64, name='action', minimum=array(0, dtype=int64), maximum=array(18, dtype=int64))\nObservation Spec:\nBoundedTensorSpec(shape=(1,), dtype=tf.float32, name='observation', minimum=array(0., dtype=float32), maximum=array(3.4028235e+38, dtype=float32))\nReward Spec:\nTensorSpec(shape=(), dtype=tf.float32, name='reward')\n"
    }
   ],
   "source": [
    "print('Action Spec:')\n",
    "print(filmEnv.action_spec())\n",
    "print('Observation Spec:')\n",
    "print(filmEnv.time_step_spec().observation)\n",
    "print('Reward Spec:')\n",
    "print(filmEnv.action_spec())\n",
    "print('Observation Spec:')\n",
    "print(filmEnv.time_step_spec().observation)\n",
    "print('Reward Spec:')\n",
    "print(filmEnv.time_step_spec().reward)"
   ]
  },
  {
   "cell_type": "markdown",
   "metadata": {},
   "source": [
    "## import Q-Net"
   ]
  },
  {
   "cell_type": "code",
   "execution_count": 7,
   "metadata": {},
   "outputs": [],
   "source": [
    "fc_layer_params = (128,)\n",
    "\n",
    "q_net = q_network.QNetwork(\n",
    "    filmEnv.observation_spec(),\n",
    "    filmEnv.action_spec(),\n",
    "    fc_layer_params=fc_layer_params)"
   ]
  },
  {
   "cell_type": "markdown",
   "metadata": {},
   "source": [
    "## instantiate DqnAgent"
   ]
  },
  {
   "cell_type": "code",
   "execution_count": 8,
   "metadata": {},
   "outputs": [],
   "source": [
    "optimizer = tf.compat.v1.train.AdamOptimizer(learning_rate=learning_rate)\n",
    "\n",
    "train_step_counter = tf.Variable(0)\n",
    "\n",
    "agent = dqn_agent.DqnAgent(\n",
    "    filmEnv.time_step_spec(),\n",
    "    filmEnv.action_spec(),\n",
    "    q_network=q_net,\n",
    "    optimizer=optimizer,\n",
    "    td_errors_loss_fn=element_wise_squared_loss,\n",
    "    train_step_counter=train_step_counter)\n",
    "\n",
    "agent.initialize()"
   ]
  },
  {
   "cell_type": "code",
   "execution_count": 9,
   "metadata": {},
   "outputs": [
    {
     "name": "stdout",
     "output_type": "stream",
     "text": "Observation Spec:\nBoundedTensorSpec(shape=(1,), dtype=tf.float32, name='observation', minimum=array(0., dtype=float32), maximum=array(3.4028235e+38, dtype=float32))\nAction Spec:\nBoundedTensorSpec(shape=(1,), dtype=tf.int64, name='action', minimum=array(0, dtype=int64), maximum=array(18, dtype=int64))\n"
    }
   ],
   "source": [
    "\n",
    "print('Observation Spec:')\n",
    "print(filmEnv.time_step_spec().observation)\n",
    "print('Action Spec:')\n",
    "print(filmEnv.action_spec())"
   ]
  },
  {
   "cell_type": "markdown",
   "metadata": {},
   "source": [
    "## Policies"
   ]
  },
  {
   "cell_type": "code",
   "execution_count": 10,
   "metadata": {},
   "outputs": [],
   "source": [
    "eval_policy = agent.policy\n",
    "collect_policy = agent.collect_policy\n",
    "\n",
    "random_policy = random_tf_policy.RandomTFPolicy(action_spec = filmEnv.action_spec(),\n",
    "                                                time_step_spec = filmEnv.time_step_spec())"
   ]
  },
  {
   "cell_type": "code",
   "execution_count": 11,
   "metadata": {},
   "outputs": [
    {
     "ename": "ValueError",
     "evalue": "Received a mix of batched and unbatched Tensors, or Tensors are not compatible with Specs.  num_outer_dims: 1.\nSaw tensor_shapes:\n   TimeStep(step_type=TensorShape([1]), reward=TensorShape([1]), discount=TensorShape([1]), observation=TensorShape([1, 1, 4]))\nAnd spec_shapes:\n   TimeStep(step_type=TensorShape([]), reward=TensorShape([]), discount=TensorShape([]), observation=TensorShape([1]))",
     "output_type": "error",
     "traceback": [
      "\u001b[1;31m---------------------------------------------------------------------------\u001b[0m",
      "\u001b[1;31mValueError\u001b[0m                                Traceback (most recent call last)",
      "\u001b[1;32m<ipython-input-11-76b9f04a433f>\u001b[0m in \u001b[0;36m<module>\u001b[1;34m\u001b[0m\n\u001b[0;32m      1\u001b[0m \u001b[0mexample_enviroment\u001b[0m \u001b[1;33m=\u001b[0m \u001b[0mtf_py_environment\u001b[0m\u001b[1;33m.\u001b[0m\u001b[0mTFPyEnvironment\u001b[0m\u001b[1;33m(\u001b[0m\u001b[0mFilmEnvironment\u001b[0m\u001b[1;33m(\u001b[0m\u001b[0mconfig_path\u001b[0m\u001b[1;33m=\u001b[0m\u001b[1;34m'Zn.ini'\u001b[0m\u001b[1;33m)\u001b[0m\u001b[1;33m)\u001b[0m\u001b[1;33m\u001b[0m\u001b[1;33m\u001b[0m\u001b[0m\n\u001b[0;32m      2\u001b[0m \u001b[0mtime_step\u001b[0m \u001b[1;33m=\u001b[0m \u001b[0mexample_enviroment\u001b[0m\u001b[1;33m.\u001b[0m\u001b[0mreset\u001b[0m\u001b[1;33m(\u001b[0m\u001b[1;33m)\u001b[0m\u001b[1;33m\u001b[0m\u001b[1;33m\u001b[0m\u001b[0m\n\u001b[1;32m----> 3\u001b[1;33m \u001b[0mrandom_policy\u001b[0m\u001b[1;33m.\u001b[0m\u001b[0maction\u001b[0m\u001b[1;33m(\u001b[0m\u001b[0mtime_step\u001b[0m\u001b[1;33m)\u001b[0m\u001b[1;33m\u001b[0m\u001b[1;33m\u001b[0m\u001b[0m\n\u001b[0m",
      "\u001b[1;32md:\\MyCode\\filmmaker\\agents\\tf_agents\\policies\\tf_policy.py\u001b[0m in \u001b[0;36maction\u001b[1;34m(self, time_step, policy_state, seed)\u001b[0m\n\u001b[0;32m    277\u001b[0m     \u001b[1;32mif\u001b[0m \u001b[0mself\u001b[0m\u001b[1;33m.\u001b[0m\u001b[0m_automatic_state_reset\u001b[0m\u001b[1;33m:\u001b[0m\u001b[1;33m\u001b[0m\u001b[1;33m\u001b[0m\u001b[0m\n\u001b[0;32m    278\u001b[0m       \u001b[0mpolicy_state\u001b[0m \u001b[1;33m=\u001b[0m \u001b[0mself\u001b[0m\u001b[1;33m.\u001b[0m\u001b[0m_maybe_reset_state\u001b[0m\u001b[1;33m(\u001b[0m\u001b[0mtime_step\u001b[0m\u001b[1;33m,\u001b[0m \u001b[0mpolicy_state\u001b[0m\u001b[1;33m)\u001b[0m\u001b[1;33m\u001b[0m\u001b[1;33m\u001b[0m\u001b[0m\n\u001b[1;32m--> 279\u001b[1;33m     \u001b[0mstep\u001b[0m \u001b[1;33m=\u001b[0m \u001b[0maction_fn\u001b[0m\u001b[1;33m(\u001b[0m\u001b[0mtime_step\u001b[0m\u001b[1;33m=\u001b[0m\u001b[0mtime_step\u001b[0m\u001b[1;33m,\u001b[0m \u001b[0mpolicy_state\u001b[0m\u001b[1;33m=\u001b[0m\u001b[0mpolicy_state\u001b[0m\u001b[1;33m,\u001b[0m \u001b[0mseed\u001b[0m\u001b[1;33m=\u001b[0m\u001b[0mseed\u001b[0m\u001b[1;33m)\u001b[0m\u001b[1;33m\u001b[0m\u001b[1;33m\u001b[0m\u001b[0m\n\u001b[0m\u001b[0;32m    280\u001b[0m \u001b[1;33m\u001b[0m\u001b[0m\n\u001b[0;32m    281\u001b[0m     \u001b[1;32mdef\u001b[0m \u001b[0mclip_action\u001b[0m\u001b[1;33m(\u001b[0m\u001b[0maction\u001b[0m\u001b[1;33m,\u001b[0m \u001b[0maction_spec\u001b[0m\u001b[1;33m)\u001b[0m\u001b[1;33m:\u001b[0m\u001b[1;33m\u001b[0m\u001b[1;33m\u001b[0m\u001b[0m\n",
      "\u001b[1;32md:\\MyCode\\filmmaker\\agents\\tf_agents\\utils\\common.py\u001b[0m in \u001b[0;36mwith_check_resource_vars\u001b[1;34m(*fn_args, **fn_kwargs)\u001b[0m\n\u001b[0;32m    152\u001b[0m         \u001b[1;31m# We're either in eager mode or in tf.function mode (no in-between); so\u001b[0m\u001b[1;33m\u001b[0m\u001b[1;33m\u001b[0m\u001b[1;33m\u001b[0m\u001b[0m\n\u001b[0;32m    153\u001b[0m         \u001b[1;31m# autodep-like behavior is already expected of fn.\u001b[0m\u001b[1;33m\u001b[0m\u001b[1;33m\u001b[0m\u001b[1;33m\u001b[0m\u001b[0m\n\u001b[1;32m--> 154\u001b[1;33m         \u001b[1;32mreturn\u001b[0m \u001b[0mfn\u001b[0m\u001b[1;33m(\u001b[0m\u001b[1;33m*\u001b[0m\u001b[0mfn_args\u001b[0m\u001b[1;33m,\u001b[0m \u001b[1;33m**\u001b[0m\u001b[0mfn_kwargs\u001b[0m\u001b[1;33m)\u001b[0m\u001b[1;33m\u001b[0m\u001b[1;33m\u001b[0m\u001b[0m\n\u001b[0m\u001b[0;32m    155\u001b[0m       \u001b[1;32mif\u001b[0m \u001b[1;32mnot\u001b[0m \u001b[0mresource_variables_enabled\u001b[0m\u001b[1;33m(\u001b[0m\u001b[1;33m)\u001b[0m\u001b[1;33m:\u001b[0m\u001b[1;33m\u001b[0m\u001b[1;33m\u001b[0m\u001b[0m\n\u001b[0;32m    156\u001b[0m         \u001b[1;32mraise\u001b[0m \u001b[0mRuntimeError\u001b[0m\u001b[1;33m(\u001b[0m\u001b[0mMISSING_RESOURCE_VARIABLES_ERROR\u001b[0m\u001b[1;33m)\u001b[0m\u001b[1;33m\u001b[0m\u001b[1;33m\u001b[0m\u001b[0m\n",
      "\u001b[1;32md:\\MyCode\\filmmaker\\agents\\tf_agents\\policies\\random_tf_policy.py\u001b[0m in \u001b[0;36m_action\u001b[1;34m(self, time_step, policy_state, seed)\u001b[0m\n\u001b[0;32m     87\u001b[0m       \u001b[0mpolicy_info\u001b[0m \u001b[1;33m=\u001b[0m \u001b[0mtensor_spec\u001b[0m\u001b[1;33m.\u001b[0m\u001b[0msample_spec_nest\u001b[0m\u001b[1;33m(\u001b[0m\u001b[0mself\u001b[0m\u001b[1;33m.\u001b[0m\u001b[0m_info_spec\u001b[0m\u001b[1;33m)\u001b[0m\u001b[1;33m\u001b[0m\u001b[1;33m\u001b[0m\u001b[0m\n\u001b[0;32m     88\u001b[0m     \u001b[1;32melse\u001b[0m\u001b[1;33m:\u001b[0m\u001b[1;33m\u001b[0m\u001b[1;33m\u001b[0m\u001b[0m\n\u001b[1;32m---> 89\u001b[1;33m       \u001b[0mouter_dims\u001b[0m \u001b[1;33m=\u001b[0m \u001b[0mnest_utils\u001b[0m\u001b[1;33m.\u001b[0m\u001b[0mget_outer_shape\u001b[0m\u001b[1;33m(\u001b[0m\u001b[0mtime_step\u001b[0m\u001b[1;33m,\u001b[0m \u001b[0mself\u001b[0m\u001b[1;33m.\u001b[0m\u001b[0m_time_step_spec\u001b[0m\u001b[1;33m)\u001b[0m\u001b[1;33m\u001b[0m\u001b[1;33m\u001b[0m\u001b[0m\n\u001b[0m\u001b[0;32m     90\u001b[0m \u001b[1;33m\u001b[0m\u001b[0m\n\u001b[0;32m     91\u001b[0m       action_ = tensor_spec.sample_spec_nest(\n",
      "\u001b[1;32md:\\MyCode\\filmmaker\\agents\\tf_agents\\utils\\nest_utils.py\u001b[0m in \u001b[0;36mget_outer_shape\u001b[1;34m(nested_tensor, spec)\u001b[0m\n\u001b[0;32m    392\u001b[0m   \u001b[0mnum_outer_dims\u001b[0m \u001b[1;33m=\u001b[0m \u001b[1;33m(\u001b[0m\u001b[0mlen\u001b[0m\u001b[1;33m(\u001b[0m\u001b[0mfirst_tensor\u001b[0m\u001b[1;33m.\u001b[0m\u001b[0mshape\u001b[0m\u001b[1;33m)\u001b[0m \u001b[1;33m-\u001b[0m \u001b[0mlen\u001b[0m\u001b[1;33m(\u001b[0m\u001b[0mfirst_spec\u001b[0m\u001b[1;33m.\u001b[0m\u001b[0mshape\u001b[0m\u001b[1;33m)\u001b[0m\u001b[1;33m)\u001b[0m\u001b[1;33m\u001b[0m\u001b[1;33m\u001b[0m\u001b[0m\n\u001b[0;32m    393\u001b[0m   if not is_batched_nested_tensors(\n\u001b[1;32m--> 394\u001b[1;33m       nested_tensor, spec, num_outer_dims=num_outer_dims):\n\u001b[0m\u001b[0;32m    395\u001b[0m     \u001b[1;32mreturn\u001b[0m \u001b[1;33m[\u001b[0m\u001b[1;33m]\u001b[0m\u001b[1;33m\u001b[0m\u001b[1;33m\u001b[0m\u001b[0m\n\u001b[0;32m    396\u001b[0m \u001b[1;33m\u001b[0m\u001b[0m\n",
      "\u001b[1;32md:\\MyCode\\filmmaker\\agents\\tf_agents\\utils\\nest_utils.py\u001b[0m in \u001b[0;36mis_batched_nested_tensors\u001b[1;34m(tensors, specs, num_outer_dims)\u001b[0m\n\u001b[0;32m    142\u001b[0m       \u001b[1;34m'And spec_shapes:\\n   %s'\u001b[0m \u001b[1;33m%\u001b[0m\u001b[1;33m\u001b[0m\u001b[1;33m\u001b[0m\u001b[0m\n\u001b[0;32m    143\u001b[0m       (num_outer_dims, tf.nest.pack_sequence_as(tensors, tensor_shapes),\n\u001b[1;32m--> 144\u001b[1;33m        tf.nest.pack_sequence_as(specs, spec_shapes)))\n\u001b[0m\u001b[0;32m    145\u001b[0m \u001b[1;33m\u001b[0m\u001b[0m\n\u001b[0;32m    146\u001b[0m \u001b[1;33m\u001b[0m\u001b[0m\n",
      "\u001b[1;31mValueError\u001b[0m: Received a mix of batched and unbatched Tensors, or Tensors are not compatible with Specs.  num_outer_dims: 1.\nSaw tensor_shapes:\n   TimeStep(step_type=TensorShape([1]), reward=TensorShape([1]), discount=TensorShape([1]), observation=TensorShape([1, 1, 4]))\nAnd spec_shapes:\n   TimeStep(step_type=TensorShape([]), reward=TensorShape([]), discount=TensorShape([]), observation=TensorShape([1]))"
     ]
    }
   ],
   "source": [
    "example_enviroment = tf_py_environment.TFPyEnvironment(FilmEnvironment(config_path='Zn.ini'))\n",
    "time_step = example_enviroment.reset()\n",
    "random_policy.action(time_step)"
   ]
  },
  {
   "cell_type": "code",
   "execution_count": null,
   "metadata": {},
   "outputs": [],
   "source": []
  }
 ],
 "metadata": {
  "language_info": {
   "name": "python",
   "codemirror_mode": {
    "name": "ipython",
    "version": 3
   },
   "version": "3.7.6-final"
  },
  "orig_nbformat": 2,
  "file_extension": ".py",
  "mimetype": "text/x-python",
  "name": "python",
  "npconvert_exporter": "python",
  "pygments_lexer": "ipython3",
  "version": 3,
  "kernelspec": {
   "name": "python37664bitcuenvconda1d1cd82663bc4d7fa7a943e541481904",
   "display_name": "Python 3.7.6 64-bit ('cuenv': conda)"
  }
 },
 "nbformat": 4,
 "nbformat_minor": 2
}